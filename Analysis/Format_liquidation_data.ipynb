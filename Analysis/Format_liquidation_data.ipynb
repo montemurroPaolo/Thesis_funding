{
 "cells": [
  {
   "cell_type": "code",
   "execution_count": 1,
   "metadata": {},
   "outputs": [],
   "source": [
    "%run Functions.ipynb\n",
    "import datetime"
   ]
  },
  {
   "cell_type": "code",
   "execution_count": 2,
   "metadata": {},
   "outputs": [],
   "source": [
    "data = pd.read_csv('/Users/paolo/Desktop/Thesis_code/data/all_currencies-bitmex-liquidations.csv') #https://data.defipulse.com/dashboard/rekto\n",
    "data.timestamp = data.timestamp.astype('int').astype(\"datetime64[s]\").dt.strftime(\"%Y-%m-%d, %H:%M\").astype(\"datetime64[s]\") #https://stackoverflow.com/questions/19738169/convert-column-of-date-objects-in-pandas-dataframe-to-strings\n",
    "data = data.sort_values(by=['timestamp'])"
   ]
  },
  {
   "cell_type": "code",
   "execution_count": 3,
   "metadata": {},
   "outputs": [],
   "source": [
    "data.timestamp = data.timestamp + timedelta(0,60) #Make the liquidation been seen at the end of the minute\n",
    "data = data.groupby(['timestamp',\"B/S\",\"Symbol\"],as_index=False).sum() # Group by minute\n",
    "data = data.set_index(data.timestamp, drop=True)\n",
    "data.columns = [\"timestamp\",\"B/S_liq\",\"Symbol_liq\",\"USD_value_liq\",\"Quantity_liq\",\"Price_liq\"]\n",
    "data[\"Quantity_liq\"][data[\"B/S_liq\"]==\"Sell\"] = - data[\"Quantity_liq\"][data[\"B/S_liq\"]==\"Sell\"]\n",
    "data = data.drop([\"USD_value_liq\",\"B/S_liq\"],axis=1)"
   ]
  },
  {
   "cell_type": "code",
   "execution_count": 4,
   "metadata": {},
   "outputs": [],
   "source": [
    "data_xbt = data[data[\"Symbol_liq\"]==\"XBTUSD\"]\n",
    "data_eth = data[data[\"Symbol_liq\"]==\"ETHUSD\"]\n",
    "data_xrp = data[data[\"Symbol_liq\"]==\"XRPUSD\"]"
   ]
  },
  {
   "cell_type": "code",
   "execution_count": 5,
   "metadata": {},
   "outputs": [],
   "source": [
    "Save_pickle(\"/Users/paolo/Desktop/Thesis_code/pickles/liquidation_data_xbt\",data_xbt)\n",
    "Save_pickle(\"/Users/paolo/Desktop/Thesis_code/pickles/liquidation_data_eth\",data_eth)\n",
    "Save_pickle(\"/Users/paolo/Desktop/Thesis_code/pickles/liquidation_data_xrp\",data_xrp)"
   ]
  }
 ],
 "metadata": {
  "kernelspec": {
   "display_name": "Python 3",
   "language": "python",
   "name": "python3"
  },
  "language_info": {
   "codemirror_mode": {
    "name": "ipython",
    "version": 3
   },
   "file_extension": ".py",
   "mimetype": "text/x-python",
   "name": "python",
   "nbconvert_exporter": "python",
   "pygments_lexer": "ipython3",
   "version": "3.7.3"
  }
 },
 "nbformat": 4,
 "nbformat_minor": 2
}
