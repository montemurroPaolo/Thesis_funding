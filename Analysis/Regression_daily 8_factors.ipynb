{
 "cells": [
  {
   "cell_type": "code",
   "execution_count": 34,
   "metadata": {},
   "outputs": [],
   "source": [
    "%run Functions.ipynb\n",
    "import statsmodels.formula.api as smf \n",
    "plt.style.use([\"seaborn-dark-palette\", \"seaborn-whitegrid\"])"
   ]
  },
  {
   "cell_type": "markdown",
   "metadata": {},
   "source": [
    "### Hedge Fund Benchmarks: A Risk-Based Approach regression"
   ]
  },
  {
   "cell_type": "markdown",
   "metadata": {},
   "source": [
    "#### Trend-Following Risk Factors (3):\n",
    "- Bond Trend-Following Factor\n",
    "- Currency Trend-Following Factor\n",
    "- Commodity Trend-Following Factor\n",
    "\n",
    "https://faculty.fuqua.duke.edu/~dah7/HFRFData.htm\n",
    "\n",
    "Do not find daily data."
   ]
  },
  {
   "cell_type": "markdown",
   "metadata": {},
   "source": [
    "####  Equity Market Factor \n",
    "Standard & Poors 500 stock return. https://finance.yahoo.com/quote/%5EGSPC/history?period1=1437350400&period2=1595203200&interval=1mo&filter=history&frequency=1d"
   ]
  },
  {
   "cell_type": "code",
   "execution_count": 35,
   "metadata": {},
   "outputs": [],
   "source": [
    "def Ret(df,col): return (  df[col] / df[col].shift(1) -1 )\n",
    "\n",
    "gspc = pd.read_csv(\"^GSPC_daily.csv\")\n",
    "gspc[\"Equity_market_factor\"] = Ret(gspc, \"Close\")"
   ]
  },
  {
   "cell_type": "markdown",
   "metadata": {},
   "source": [
    "#### The Size Spread Factor\n",
    "Russell 2000 index monthly total return - Standard & Poors 500 monthly total return. https://finance.yahoo.com/quote/%5ERUT/history?period1=1437350400&period2=1595203200&interval=1d&filter=history&frequency=1d"
   ]
  },
  {
   "cell_type": "code",
   "execution_count": 36,
   "metadata": {},
   "outputs": [],
   "source": [
    "rut = pd.read_csv(\"^RUT_daily.csv\")\n",
    "rut[\"ret\"] = Ret(rut, \"Close\")\n",
    "\n",
    "rut[\"Size_spread_factor\"] = rut[\"ret\"] - gspc[\"Equity_market_factor\"]"
   ]
  },
  {
   "cell_type": "markdown",
   "metadata": {},
   "source": [
    "#### The Bond Market Factor - DGS10 (calculate change)\n",
    "https://fred.stlouisfed.org/series/DGS10 "
   ]
  },
  {
   "cell_type": "code",
   "execution_count": 37,
   "metadata": {},
   "outputs": [],
   "source": [
    "bond_market_factor = pd.read_csv(\"DGS10.csv\")\n",
    "bond_market_factor[\"Date\"] = bond_market_factor[\"DATE\"]\n",
    "bond_market_factor = bond_market_factor[bond_market_factor[\"DGS10\"] != \".\"]\n",
    "bond_market_factor[\"DGS10\"] = bond_market_factor[\"DGS10\"].astype(float)\n",
    "bond_market_factor[\"Bond_market_factor\"] = Ret(bond_market_factor, \"DGS10\")"
   ]
  },
  {
   "cell_type": "markdown",
   "metadata": {},
   "source": [
    "#### The Credit Spread Factor DGS10/DBA\n",
    " The monthly change in the Moody's Baa yield less 10-year treasury constant maturity yield (month end-to-month end)\n",
    "https://fred.stlouisfed.org/series/DBAA"
   ]
  },
  {
   "cell_type": "code",
   "execution_count": 38,
   "metadata": {},
   "outputs": [],
   "source": [
    "credit_spread_factor = pd.read_csv(\"DBAA.csv\")\n",
    "credit_spread_factor[\"Date\"] = credit_spread_factor[\"DATE\"]\n",
    "credit_spread_factor = credit_spread_factor[credit_spread_factor[\"DBAA\"] != \".\"]\n",
    "credit_spread_factor[\"DBAA\"] = credit_spread_factor[\"DBAA\"].astype(float)\n",
    "credit_spread_factor[\"change\"] = Ret(credit_spread_factor, \"DBAA\")\n",
    "credit_spread_factor[\"Credit_spread_factor\"] = credit_spread_factor[\"change\"] - bond_market_factor[\"Bond_market_factor\"]"
   ]
  },
  {
   "cell_type": "markdown",
   "metadata": {},
   "source": [
    "#### The Emerging Market Index EEM\n",
    "MSCI Emerging Market index monthly total return https://it.finance.yahoo.com/quote/EEM/history?period1=1437350400&period2=1595203200&interval=1d&filter=history&frequency=1d"
   ]
  },
  {
   "cell_type": "code",
   "execution_count": 39,
   "metadata": {},
   "outputs": [],
   "source": [
    "eem = pd.read_csv(\"EEM_daily.csv\")\n",
    "eem[\"Emergency_market_factor\"] = Ret(eem, \"Close\")"
   ]
  },
  {
   "cell_type": "markdown",
   "metadata": {},
   "source": [
    "Creating the factors dataset"
   ]
  },
  {
   "cell_type": "code",
   "execution_count": 40,
   "metadata": {},
   "outputs": [],
   "source": [
    "factors8 = pd.merge(gspc[[\"Date\",\"Equity_market_factor\"]], rut[[\"Date\",\"Size_spread_factor\"]], how=\"left\", on=\"Date\")\n",
    "factors8 = pd.merge(factors8, bond_market_factor[[\"Date\",\"Bond_market_factor\"]], how=\"left\", on=\"Date\")\n",
    "factors8 = pd.merge(factors8, credit_spread_factor[[\"Date\",\"Credit_spread_factor\"]], how=\"left\", on=\"Date\")\n",
    "factors8 = pd.merge(factors8, eem[[\"Date\",\"Emergency_market_factor\"]], how=\"left\", on=\"Date\")\n",
    "\n",
    "factors8 = factors8.set_index(\"Date\")\n",
    "factors8 = factors8[factors8.index>\"2015-08-01\"]\n",
    "factors8 = factors8*100"
   ]
  },
  {
   "cell_type": "code",
   "execution_count": 41,
   "metadata": {},
   "outputs": [],
   "source": [
    "my_returns = pd.read_csv(\"my_returns_daily.csv\") # insert my returns\n",
    "my_returns[\"Date\"] = my_returns[\"date\"]\n",
    "my_returns[\"return_from_trade\"] = my_returns[\"return_from_trade\"]*100"
   ]
  },
  {
   "cell_type": "code",
   "execution_count": 42,
   "metadata": {},
   "outputs": [],
   "source": [
    "factors8 = pd.merge(my_returns[[\"Date\",\"return_from_trade\"]], factors8, how=\"left\", on=\"Date\").fillna(0)"
   ]
  },
  {
   "cell_type": "code",
   "execution_count": 43,
   "metadata": {},
   "outputs": [
    {
     "data": {
      "text/html": [
       "<table class=\"simpletable\">\n",
       "<caption>OLS Regression Results</caption>\n",
       "<tr>\n",
       "  <th>Dep. Variable:</th>    <td>return_from_trade</td> <th>  R-squared:         </th> <td>   0.032</td>\n",
       "</tr>\n",
       "<tr>\n",
       "  <th>Model:</th>                   <td>OLS</td>        <th>  Adj. R-squared:    </th> <td>   0.026</td>\n",
       "</tr>\n",
       "<tr>\n",
       "  <th>Method:</th>             <td>Least Squares</td>   <th>  F-statistic:       </th> <td>   4.882</td>\n",
       "</tr>\n",
       "<tr>\n",
       "  <th>Date:</th>             <td>Wed, 16 Sep 2020</td>  <th>  Prob (F-statistic):</th> <td>0.000211</td>\n",
       "</tr>\n",
       "<tr>\n",
       "  <th>Time:</th>                 <td>19:28:20</td>      <th>  Log-Likelihood:    </th> <td> -2491.3</td>\n",
       "</tr>\n",
       "<tr>\n",
       "  <th>No. Observations:</th>      <td>   737</td>       <th>  AIC:               </th> <td>   4995.</td>\n",
       "</tr>\n",
       "<tr>\n",
       "  <th>Df Residuals:</th>          <td>   731</td>       <th>  BIC:               </th> <td>   5022.</td>\n",
       "</tr>\n",
       "<tr>\n",
       "  <th>Df Model:</th>              <td>     5</td>       <th>                     </th>     <td> </td>   \n",
       "</tr>\n",
       "<tr>\n",
       "  <th>Covariance Type:</th>      <td>nonrobust</td>     <th>                     </th>     <td> </td>   \n",
       "</tr>\n",
       "</table>\n",
       "<table class=\"simpletable\">\n",
       "<tr>\n",
       "             <td></td>                <th>coef</th>     <th>std err</th>      <th>t</th>      <th>P>|t|</th>  <th>[0.025</th>    <th>0.975]</th>  \n",
       "</tr>\n",
       "<tr>\n",
       "  <th>Intercept</th>               <td>    0.8050</td> <td>    0.264</td> <td>    3.052</td> <td> 0.002</td> <td>    0.287</td> <td>    1.323</td>\n",
       "</tr>\n",
       "<tr>\n",
       "  <th>Equity_market_factor</th>    <td>   -0.5317</td> <td>    0.383</td> <td>   -1.388</td> <td> 0.166</td> <td>   -1.284</td> <td>    0.220</td>\n",
       "</tr>\n",
       "<tr>\n",
       "  <th>Size_spread_factor</th>      <td>   -0.0392</td> <td>    0.409</td> <td>   -0.096</td> <td> 0.924</td> <td>   -0.842</td> <td>    0.763</td>\n",
       "</tr>\n",
       "<tr>\n",
       "  <th>Bond_market_factor</th>      <td>    1.2009</td> <td>    0.280</td> <td>    4.291</td> <td> 0.000</td> <td>    0.651</td> <td>    1.750</td>\n",
       "</tr>\n",
       "<tr>\n",
       "  <th>Credit_spread_factor</th>    <td>    1.3097</td> <td>    0.344</td> <td>    3.808</td> <td> 0.000</td> <td>    0.634</td> <td>    1.985</td>\n",
       "</tr>\n",
       "<tr>\n",
       "  <th>Emergency_market_factor</th> <td>    0.2021</td> <td>    0.356</td> <td>    0.568</td> <td> 0.570</td> <td>   -0.496</td> <td>    0.901</td>\n",
       "</tr>\n",
       "</table>\n",
       "<table class=\"simpletable\">\n",
       "<tr>\n",
       "  <th>Omnibus:</th>       <td>190.404</td> <th>  Durbin-Watson:     </th> <td>   1.855</td> \n",
       "</tr>\n",
       "<tr>\n",
       "  <th>Prob(Omnibus):</th> <td> 0.000</td>  <th>  Jarque-Bera (JB):  </th> <td>1175.331</td> \n",
       "</tr>\n",
       "<tr>\n",
       "  <th>Skew:</th>          <td> 1.008</td>  <th>  Prob(JB):          </th> <td>6.03e-256</td>\n",
       "</tr>\n",
       "<tr>\n",
       "  <th>Kurtosis:</th>      <td> 8.849</td>  <th>  Cond. No.          </th> <td>    9.75</td> \n",
       "</tr>\n",
       "</table><br/><br/>Warnings:<br/>[1] Standard Errors assume that the covariance matrix of the errors is correctly specified."
      ],
      "text/plain": [
       "<class 'statsmodels.iolib.summary.Summary'>\n",
       "\"\"\"\n",
       "                            OLS Regression Results                            \n",
       "==============================================================================\n",
       "Dep. Variable:      return_from_trade   R-squared:                       0.032\n",
       "Model:                            OLS   Adj. R-squared:                  0.026\n",
       "Method:                 Least Squares   F-statistic:                     4.882\n",
       "Date:                Wed, 16 Sep 2020   Prob (F-statistic):           0.000211\n",
       "Time:                        19:28:20   Log-Likelihood:                -2491.3\n",
       "No. Observations:                 737   AIC:                             4995.\n",
       "Df Residuals:                     731   BIC:                             5022.\n",
       "Df Model:                           5                                         \n",
       "Covariance Type:            nonrobust                                         \n",
       "===========================================================================================\n",
       "                              coef    std err          t      P>|t|      [0.025      0.975]\n",
       "-------------------------------------------------------------------------------------------\n",
       "Intercept                   0.8050      0.264      3.052      0.002       0.287       1.323\n",
       "Equity_market_factor       -0.5317      0.383     -1.388      0.166      -1.284       0.220\n",
       "Size_spread_factor         -0.0392      0.409     -0.096      0.924      -0.842       0.763\n",
       "Bond_market_factor          1.2009      0.280      4.291      0.000       0.651       1.750\n",
       "Credit_spread_factor        1.3097      0.344      3.808      0.000       0.634       1.985\n",
       "Emergency_market_factor     0.2021      0.356      0.568      0.570      -0.496       0.901\n",
       "==============================================================================\n",
       "Omnibus:                      190.404   Durbin-Watson:                   1.855\n",
       "Prob(Omnibus):                  0.000   Jarque-Bera (JB):             1175.331\n",
       "Skew:                           1.008   Prob(JB):                    6.03e-256\n",
       "Kurtosis:                       8.849   Cond. No.                         9.75\n",
       "==============================================================================\n",
       "\n",
       "Warnings:\n",
       "[1] Standard Errors assume that the covariance matrix of the errors is correctly specified.\n",
       "\"\"\""
      ]
     },
     "execution_count": 43,
     "metadata": {},
     "output_type": "execute_result"
    }
   ],
   "source": [
    "ff = smf.ols(formula='return_from_trade ~ Equity_market_factor + Size_spread_factor + Bond_market_factor + Credit_spread_factor + Emergency_market_factor', data=factors8)\n",
    "res = ff.fit()\n",
    "res.summary()"
   ]
  }
 ],
 "metadata": {
  "kernelspec": {
   "display_name": "Python 3",
   "language": "python",
   "name": "python3"
  },
  "language_info": {
   "codemirror_mode": {
    "name": "ipython",
    "version": 3
   },
   "file_extension": ".py",
   "mimetype": "text/x-python",
   "name": "python",
   "nbconvert_exporter": "python",
   "pygments_lexer": "ipython3",
   "version": "3.7.3"
  }
 },
 "nbformat": 4,
 "nbformat_minor": 2
}
